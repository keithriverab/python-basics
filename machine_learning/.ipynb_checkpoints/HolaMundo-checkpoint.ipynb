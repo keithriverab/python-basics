{
 "cells": [
  {
   "cell_type": "code",
   "execution_count": 8,
   "id": "1a2214b1",
   "metadata": {},
   "outputs": [
    {
     "data": {
      "text/plain": [
       "1.0"
      ]
     },
     "execution_count": 8,
     "metadata": {},
     "output_type": "execute_result"
    }
   ],
   "source": [
    "import pandas as p\n",
    "from sklearn.tree import DecisionTreeClassifier\n",
    "from sklearn.model_selection import train_test_split\n",
    "from sklearn.metrics import accuracy_score\n",
    "\n",
    "data_juegos = p.read_csv(\"juegos-ml.csv\")\n",
    "X = data_juegos.drop(columns=[\"juegos\"])\n",
    "y = data_juegos[\"juegos\"]\n",
    "X_entrenar, X_prueba, y_entrenar, y_prueba  = train_test_split(X.values, y, test_size=0.1)\n",
    "                                                              \n",
    "modelo = DecisionTreeClassifier()\n",
    "modelo.fit(X_entrenar, y_entrenar)\n",
    "predicciones = modelo.predict(X_prueba)\n",
    "\n",
    "puntaje = accuracy_score(y_prueba, predicciones)\n",
    "puntaje"
   ]
  },
  {
   "cell_type": "code",
   "execution_count": null,
   "id": "75bb939e",
   "metadata": {
    "scrolled": true
   },
   "outputs": [],
   "source": []
  }
 ],
 "metadata": {
  "kernelspec": {
   "display_name": "Python 3 (ipykernel)",
   "language": "python",
   "name": "python3"
  },
  "language_info": {
   "codemirror_mode": {
    "name": "ipython",
    "version": 3
   },
   "file_extension": ".py",
   "mimetype": "text/x-python",
   "name": "python",
   "nbconvert_exporter": "python",
   "pygments_lexer": "ipython3",
   "version": "3.10.9"
  }
 },
 "nbformat": 4,
 "nbformat_minor": 5
}
