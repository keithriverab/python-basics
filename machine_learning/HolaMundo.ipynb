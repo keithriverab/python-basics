{
 "cells": [
  {
   "cell_type": "code",
   "execution_count": 13,
   "id": "1a2214b1",
   "metadata": {},
   "outputs": [
    {
     "data": {
      "text/plain": [
       "array(['fps'], dtype=object)"
      ]
     },
     "execution_count": 13,
     "metadata": {},
     "output_type": "execute_result"
    }
   ],
   "source": [
    "import pandas as p\n",
    "from sklearn.tree import DecisionTreeClassifier\n",
    "import joblib\n",
    "\n",
    "# data_juegos = p.read_csv(\"juegos-ml.csv\")\n",
    "# X = data_juegos.drop(columns=[\"juegos\"])\n",
    "# y = data_juegos[\"juegos\"]\n",
    "\n",
    "                                                              \n",
    "# modelo = DecisionTreeClassifier()\n",
    "# modelo.fit(X.values, y)\n",
    "# predicciones = modelo.predict([[14, 0]])\n",
    "\n",
    "modelo = joblib.load(\"recomendador-juegos.joblib\")\n",
    "modelo.predict([[14, 0]])\n",
    "predicciones"
   ]
  },
  {
   "cell_type": "code",
   "execution_count": null,
   "id": "75bb939e",
   "metadata": {
    "scrolled": true
   },
   "outputs": [],
   "source": []
  }
 ],
 "metadata": {
  "kernelspec": {
   "display_name": "Python 3 (ipykernel)",
   "language": "python",
   "name": "python3"
  },
  "language_info": {
   "codemirror_mode": {
    "name": "ipython",
    "version": 3
   },
   "file_extension": ".py",
   "mimetype": "text/x-python",
   "name": "python",
   "nbconvert_exporter": "python",
   "pygments_lexer": "ipython3",
   "version": "3.10.9"
  }
 },
 "nbformat": 4,
 "nbformat_minor": 5
}
